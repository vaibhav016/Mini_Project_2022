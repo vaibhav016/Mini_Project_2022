{
 "cells": [
  {
   "cell_type": "code",
   "execution_count": 1,
   "metadata": {
    "id": "AcBnV2WlPpYa"
   },
   "outputs": [],
   "source": [
    "import torch\n",
    "import torch.nn as nn\n",
    "import torchvision\n",
    "import torchvision.transforms as transforms\n",
    "from torch.utils.data import DataLoader\n",
    "import torch.utils.data as data\n",
    "import torch.nn.functional as F\n",
    "\n",
    "import torch.optim as optim\n",
    "from torch.optim.lr_scheduler import _LRScheduler, ReduceLROnPlateau\n",
    "import torchvision.datasets as datasets\n",
    "\n",
    "from sklearn import decomposition\n",
    "from sklearn import manifold\n",
    "from sklearn.metrics import confusion_matrix\n",
    "from sklearn.metrics import ConfusionMatrixDisplay\n",
    "from sklearn.metrics import f1_score, precision_score, recall_score\n",
    "import matplotlib.pyplot as plt\n",
    "import numpy as np\n",
    "import pandas as pd\n",
    "\n",
    "import copy\n",
    "import random\n",
    "import time"
   ]
  },
  {
   "cell_type": "code",
   "execution_count": 2,
   "metadata": {
    "id": "Oh2Pl8RnPqnG"
   },
   "outputs": [],
   "source": [
    "SEED = 1234\n",
    "\n",
    "random.seed(SEED)\n",
    "np.random.seed(SEED)\n",
    "torch.manual_seed(SEED)\n",
    "torch.cuda.manual_seed(SEED)\n",
    "torch.backends.cudnn.deterministic = True"
   ]
  },
  {
   "cell_type": "markdown",
   "metadata": {
    "id": "YVs5JcuXP6dG"
   },
   "source": [
    "### Model Creation\n",
    "\n",
    "Taken from https://github.com/kuangliu/pytorch-cifar Link given in the assignment"
   ]
  },
  {
   "cell_type": "code",
   "execution_count": 3,
   "metadata": {
    "id": "eIw0SKq6P1Mu"
   },
   "outputs": [],
   "source": [
    "class BasicBlock(nn.Module):\n",
    "    \n",
    "    def __init__(self, in_planes, planes, stride=1):\n",
    "        super(BasicBlock, self).__init__()\n",
    "        self.conv1 = nn.Conv2d(\n",
    "            in_planes, planes, kernel_size=3, stride=stride, padding=1, bias=False)\n",
    "        self.bn1 = nn.BatchNorm2d(planes)\n",
    "        self.conv2 = nn.Conv2d(planes, planes, kernel_size=3,\n",
    "                               stride=1, padding=1, bias=False)\n",
    "        self.bn2 = nn.BatchNorm2d(planes)\n",
    "\n",
    "        self.shortcut = nn.Sequential()\n",
    "        if stride != 1 or in_planes != planes:\n",
    "            self.shortcut = nn.Sequential(\n",
    "                nn.Conv2d(in_planes, planes,\n",
    "                          kernel_size=1, stride=stride, bias=False),\n",
    "                nn.BatchNorm2d(planes)\n",
    "            )\n",
    "\n",
    "    def forward(self, x):\n",
    "        out = F.relu(self.bn1(self.conv1(x)))\n",
    "        out = self.bn2(self.conv2(out))\n",
    "        out += self.shortcut(x)\n",
    "        out = F.relu(out)\n",
    "        return out"
   ]
  },
  {
   "cell_type": "code",
   "execution_count": 4,
   "metadata": {
    "id": "nsc7b9YzQDKQ"
   },
   "outputs": [],
   "source": [
    "class ResNet(nn.Module):\n",
    "    def __init__(self, block, ip_planes, num_blocks, kernel_size=3, num_classes=10):\n",
    "        super(ResNet, self).__init__()\n",
    "        self.in_planes = 64\n",
    "\n",
    "        self.conv1 = nn.Conv2d(3, 64, kernel_size=kernel_size,\n",
    "                               stride=1, padding=1, bias=False)\n",
    "        self.bn1 = nn.BatchNorm2d(64)\n",
    "        self.layer1 = self._make_layer(block, ip_planes[0], num_blocks[0], stride=1)\n",
    "        self.layer2 = self._make_layer(block, ip_planes[1], num_blocks[1], stride=2)\n",
    "        self.layer3 = self._make_layer(block, ip_planes[2], num_blocks[2], stride=2)\n",
    "        self.layer4 = self._make_layer(block, ip_planes[3], num_blocks[3], stride=2)\n",
    "        self.linear = nn.Linear(ip_planes[3], num_classes)\n",
    "\n",
    "    def _make_layer(self, block, planes, num_blocks, stride):\n",
    "        strides = [stride] + [1]*(num_blocks-1)\n",
    "        layers = []\n",
    "        for stride in strides:\n",
    "            layers.append(block(self.in_planes, planes, stride))\n",
    "            self.in_planes = planes\n",
    "        return nn.Sequential(*layers)\n",
    "\n",
    "    def forward(self, x):\n",
    "        out = F.relu(self.bn1(self.conv1(x)), inplace=True)\n",
    "        out = self.layer1(out)\n",
    "        out = self.layer2(out)\n",
    "        out = self.layer3(out)\n",
    "        out = self.layer4(out)\n",
    "        out = F.avg_pool2d(out, 4)\n",
    "        out = out.view(out.size(0), -1)\n",
    "        out = self.linear(out)\n",
    "        return out"
   ]
  },
  {
   "cell_type": "code",
   "execution_count": 5,
   "metadata": {
    "id": "xXdXnp5cQG6b"
   },
   "outputs": [],
   "source": [
    "def build_model(ip_planes, blocks, kernel_sz=3):\n",
    "    return ResNet(BasicBlock, ip_planes, blocks, kernel_sz)"
   ]
  },
  {
   "cell_type": "code",
   "execution_count": 7,
   "metadata": {
    "id": "V5UbLfNLQVQl"
   },
   "outputs": [],
   "source": [
    "def calculate_accuracy(y_pred, y):\n",
    "    top_pred = torch.squeeze(y_pred.argmax(1, keepdim = True), 1)\n",
    "    correct = top_pred.eq(y.view_as(top_pred)).sum()\n",
    "    acc = correct.float() / y.shape[0]\n",
    "\n",
    "    prec = precision_score(y.cpu(), top_pred.cpu(), average='micro', zero_division = 0)\n",
    "\n",
    "    rec = recall_score(y.cpu(), top_pred.cpu(), average='micro', zero_division = 0)\n",
    "\n",
    "    f1 = f1_score(y.cpu(), top_pred.cpu(), average='micro', zero_division = 0)\n",
    "\n",
    "    return acc, prec, rec, f1"
   ]
  },
  {
   "cell_type": "code",
   "execution_count": 8,
   "metadata": {
    "id": "l4NaKPYhQd1K"
   },
   "outputs": [],
   "source": [
    "def epoch_time(start_time, end_time):\n",
    "    elapsed_time = end_time - start_time\n",
    "    elapsed_mins = int(elapsed_time / 60)\n",
    "    elapsed_secs = int(elapsed_time - (elapsed_mins * 60))\n",
    "    return elapsed_mins, elapsed_secs"
   ]
  },
  {
   "cell_type": "code",
   "execution_count": 9,
   "metadata": {
    "id": "Utu5uid2QVoC"
   },
   "outputs": [],
   "source": [
    "def train(model, iterator, optimizer, criterion, device):\n",
    "    \n",
    "    epoch_loss = 0\n",
    "    epoch_acc = 0\n",
    "    \n",
    "    model.train()\n",
    "    \n",
    "    for (x, y) in iterator:\n",
    "        \n",
    "        x = x.to(device)\n",
    "        y = y.to(device)\n",
    "        \n",
    "        optimizer.zero_grad()\n",
    "                 \n",
    "        y_pred = model(x)\n",
    "        \n",
    "        loss = criterion(y_pred, y)\n",
    "        \n",
    "        acc,_,_,_ = calculate_accuracy(y_pred, y)\n",
    "        \n",
    "        loss.backward()\n",
    "        \n",
    "        optimizer.step()\n",
    "        \n",
    "        epoch_loss += loss.item()\n",
    "        epoch_acc += acc.item()\n",
    "        \n",
    "    return epoch_loss / len(iterator), epoch_acc / len(iterator)"
   ]
  },
  {
   "cell_type": "code",
   "execution_count": 10,
   "metadata": {
    "id": "0gJv0yVeQXkC"
   },
   "outputs": [],
   "source": [
    "\n",
    "def evaluate(model, iterator, criterion, device):\n",
    "    \n",
    "    epoch_loss = 0\n",
    "    epoch_acc = 0\n",
    "    \n",
    "    model.eval()\n",
    "    \n",
    "    with torch.no_grad():\n",
    "        \n",
    "        for (x, y) in iterator:\n",
    "\n",
    "            x = x.to(device)\n",
    "            y = y.to(device)\n",
    "\n",
    "            y_pred = model(x)\n",
    "\n",
    "            loss = criterion(y_pred, y)\n",
    "\n",
    "            acc,_,_,_ = calculate_accuracy(y_pred, y)\n",
    "\n",
    "            epoch_loss += loss.item()\n",
    "            epoch_acc += acc.item()\n",
    "        \n",
    "    return epoch_loss / len(iterator), epoch_acc / len(iterator)"
   ]
  },
  {
   "cell_type": "code",
   "execution_count": 11,
   "metadata": {
    "id": "QLhStgMeRyvv"
   },
   "outputs": [],
   "source": [
    "mean = (0.4914, 0.4822, 0.4465)\n",
    "std = (0.2023, 0.1994, 0.2010)"
   ]
  },
  {
   "cell_type": "code",
   "execution_count": 12,
   "metadata": {
    "id": "NRVZPnC6QZ-y"
   },
   "outputs": [],
   "source": [
    "def prepare_and_train(epochs, train_dataloader, test_dataloader, valid_dataloader, model, criterion, optimizer, scheduler, path, aug=False, augVal=-1):\n",
    "    \n",
    "    if aug:\n",
    "        if augVal==1:\n",
    "            train_transforms = transforms.Compose(\n",
    "                [\n",
    "                    transforms.RandomRotation(5),\n",
    "                    transforms.RandomCrop((32,32), padding=4),\n",
    "                    transforms.RandomHorizontalFlip(p=0.5),\n",
    "                    transforms.RandomAffine(0, shear=10, scale=(0.8,1.2)),\n",
    "                    transforms.ColorJitter(brightness=0.2, contrast=0.2, saturation=0.2),\n",
    "                    transforms.ToTensor(),\n",
    "                    transforms.Normalize(mean=mean, std=std)\n",
    "                ])\n",
    "              \n",
    "        train_data = torchvision.datasets.CIFAR10(root='./data', train=True, transform=train_transforms, download=True)\n",
    "        train_data, valid_data = data.random_split(train_data,  [n_train_examples, n_valid_examples])\n",
    "        valid_data.dataset.transform = test_transforms\n",
    "        valid_dataloader = data.DataLoader(valid_data, batch_size=256, shuffle=True)\n",
    "        train_dataloader = DataLoader(train_data, batch_size=256, shuffle=True, num_workers=2)\n",
    "\n",
    "    validation_loss_min = torch.inf\n",
    "    model_path = path+\"model.pt\"\n",
    "    train_loss = []\n",
    "    train_acc = []\n",
    "    val_loss = []\n",
    "    val_acc = []\n",
    "\n",
    "    # Fill training code here\n",
    "    for i in range(epochs):\n",
    "      t1 = time.time()\n",
    "      training_loss, training_accuracy = train(model, train_dataloader, optimizer, criterion, device)\n",
    "      validation_loss, validation_accuracy = evaluate(model,valid_dataloader, criterion, device)\n",
    "      scheduler.step(validation_loss)\n",
    "      t2 = time.time()\n",
    "      train_loss.append(training_loss)\n",
    "      train_acc.append(training_accuracy)\n",
    "      val_loss.append(validation_loss)\n",
    "      val_acc.append(validation_accuracy)\n",
    "      min, sec = epoch_time(t1,t2)[0], epoch_time(t1,t2)[1]\n",
    "      print('epoch: %d | train_loss: %.4f| train_accuracy: %.4f | valid_loss: %.4f | valid_accuracy: %.4f | epoch time: %s mins %s secs'%(i,training_loss,training_accuracy,validation_loss,validation_accuracy, min, sec))\n",
    "      if validation_loss < validation_loss_min:\n",
    "        print('Saving model ...')\n",
    "        validation_loss_min = validation_loss\n",
    "        best_model = torch.save(model, model_path)\n",
    "        testing_loss, testing_accuracy = evaluate(model, test_dataloader, criterion, device)\n",
    "        print(\"testing loss: %.4f | testing accuracy: %.4f\"%(testing_loss, testing_accuracy)) \n",
    "\n",
    "    df = pd.DataFrame()\n",
    "    df['Val_Loss']=val_loss\n",
    "    df['Val_Acc']=val_acc\n",
    "    df['Train_Loss']=train_loss\n",
    "    df['Train_Acc']=train_acc\n",
    "    df.to_csv(path+'Metrics.csv')\n",
    "\n",
    "    return train_loss, train_acc, val_loss, val_acc   "
   ]
  },
  {
   "cell_type": "code",
   "execution_count": 13,
   "metadata": {
    "colab": {
     "base_uri": "https://localhost:8080/",
     "height": 104,
     "referenced_widgets": [
      "980abed5a3b04846b867c35c85f65a8f",
      "dd21c0b589a94cb5bb8742cda144ec71",
      "669843edd3a14477ae9b5a9dd14b9954",
      "cce357cc22a64477aeea1def76a2fac7",
      "ef8e1e2dda8a45b79d5bb19e8e033ec3",
      "c61b07a46dbb4921a07b4cc17fd7575e",
      "b3af70b65b63400795047f4e8a77e3a8",
      "e17a95f219ab471b8adc8e616bc73b6a",
      "55ce8e97865e4e2c9d23837de70a4ee3",
      "36a2fb2a07e5485daaaf636925d19bc3",
      "fa4a9b8d8a854b86b0a97c13c1cd17da"
     ]
    },
    "id": "DhQrM4GWW164",
    "outputId": "4b202458-70b7-4b52-c731-849d16865c38"
   },
   "outputs": [
    {
     "name": "stdout",
     "output_type": "stream",
     "text": [
      "Downloading https://www.cs.toronto.edu/~kriz/cifar-10-python.tar.gz to ./data/cifar-10-python.tar.gz\n"
     ]
    },
    {
     "data": {
      "application/vnd.jupyter.widget-view+json": {
       "model_id": "980abed5a3b04846b867c35c85f65a8f",
       "version_major": 2,
       "version_minor": 0
      },
      "text/plain": [
       "  0%|          | 0/170498071 [00:00<?, ?it/s]"
      ]
     },
     "metadata": {},
     "output_type": "display_data"
    },
    {
     "name": "stdout",
     "output_type": "stream",
     "text": [
      "Extracting ./data/cifar-10-python.tar.gz to ./data\n",
      "Files already downloaded and verified\n"
     ]
    }
   ],
   "source": [
    "train_transforms = transforms.Compose(\n",
    "                [\n",
    "                    transforms.RandomRotation(5),\n",
    "                    transforms.RandomCrop((32,32), padding=4),\n",
    "                    transforms.RandomHorizontalFlip(p=0.5),\n",
    "                    transforms.ToTensor(),\n",
    "                    transforms.Normalize(mean=mean, std=std)\n",
    "                ])\n",
    "test_transforms = transforms.Compose([\n",
    "          transforms.ToTensor(),\n",
    "          transforms.Normalize(mean=mean, std=std),    \n",
    "          ])  \n",
    "\n",
    "train_data = torchvision.datasets.CIFAR10(root='./data', train=True, transform=train_transforms, download=True)\n",
    "test_data = torchvision.datasets.CIFAR10(root='./data', train=False, transform=test_transforms, download=True)"
   ]
  },
  {
   "cell_type": "code",
   "execution_count": 14,
   "metadata": {
    "id": "BTd7CGzGWhBn"
   },
   "outputs": [],
   "source": [
    "VALID_RATIO = 0.9\n",
    "\n",
    "n_train_examples = int(len(train_data) * VALID_RATIO)\n",
    "n_valid_examples = len(train_data) - n_train_examples\n",
    "\n",
    "train_data, valid_data = data.random_split(train_data,  [n_train_examples, n_valid_examples])\n",
    "valid_data.dataset.transform = test_transforms\n",
    "valid_dataloader = data.DataLoader(valid_data, batch_size=256, shuffle=True)\n",
    "train_dataloader = DataLoader(train_data, batch_size=256, shuffle=True, num_workers=2)\n",
    "test_dataloader = DataLoader(test_data, batch_size=256, shuffle=False, num_workers=2) "
   ]
  },
  {
   "cell_type": "code",
   "execution_count": null,
   "metadata": {
    "id": "21LljhoBXHvH"
   },
   "outputs": [],
   "source": [
    "#Defaults\n",
    "device = torch.device('cuda' if torch.cuda.is_available() else 'cpu')\n",
    "criterion = nn.CrossEntropyLoss()\n",
    "criterion = criterion.to(device)\n",
    "\n",
    "planes = [[64,64,128,128], [64,64,256,256] [64,128,256,512]]\n",
    "input_blocks = [[2, 2, 8, 8], [2, 2, 2, 2], [1, 1, 1, 1]]\n",
    "opt='SGD'\n",
    "ksz=3\n",
    "train_losses = []\n",
    "train_accuracies = []\n",
    "val_losses = []\n",
    "val_accuracies = []\n",
    "epochs = 500\n",
    "\n",
    "for i, plane in enumerate(planes):\n",
    "  model = build_model(plane,input_blocks[i])\n",
    "  model = model.to(device)\n",
    "  optimizer = optim.SGD(model.parameters(), lr = 0.1, momentum=0.9, weight_decay=0.0001)\n",
    "  scheduler = ReduceLROnPlateau(optimizer, 'min', factor=0.1)\n",
    "  model_params = sum(p.numel() for p in model.parameters() if p.requires_grad)\n",
    "  print('Model Parameters ',model_params)\n",
    "  path = ' '.join([str(i) for i in plane])+opt+str(ksz)+str(model_params)+'sch'\n",
    "  train_loss, train_acc, val_loss, val_acc = prepare_and_train(epochs, train_dataloader,test_dataloader, valid_dataloader, model, criterion, optimizer, scheduler, path)\n",
    "  train_losses.append(train_loss)\n",
    "  train_accuracies.append(train_acc)\n",
    "  val_losses.append(val_loss)\n",
    "  val_accuracies.append(val_acc)"
   ]
  },
  {
   "cell_type": "markdown",
   "metadata": {
    "id": "VYuPyMzbESth"
   },
   "source": [
    "Below are tests for Augmentation"
   ]
  },
  {
   "cell_type": "code",
   "execution_count": null,
   "metadata": {
    "id": "R0xdorxJwlsE"
   },
   "outputs": [],
   "source": [
    "#Defaults\n",
    "model = build_model([64,128,256,512], [1, 1, 1, 1])\n",
    "device = torch.device('cuda' if torch.cuda.is_available() else 'cpu')\n",
    "criterion = nn.CrossEntropyLoss()\n",
    "criterion = criterion.to(device)\n",
    "model = model.to(device)\n",
    "optimizer = optim.SGD(model.parameters(), lr = 0.1, momentum=0.9, weight_decay=0.0001)\n",
    "scheduler = ReduceLROnPlateau(optimizer, 'min', factor=0.1)\n",
    "model_params = sum(p.numel() for p in model.parameters() if p.requires_grad)\n",
    "print('Model Parameters ',model_params)\n",
    "\n",
    "opt='SGD'\n",
    "ksz=3\n",
    "train_losses = []\n",
    "train_accuracies = []\n",
    "val_losses = []\n",
    "val_accuracies = []\n",
    "epochs = 50\n",
    "  \n",
    "path = 'defaultaug'\n",
    "train_loss, train_acc, val_loss, val_acc = prepare_and_train(epochs, train_dataloader,test_dataloader, valid_dataloader, model, criterion, optimizer, scheduler, path)\n",
    "train_losses.append(train_loss)\n",
    "train_accuracies.append(train_acc)\n",
    "val_losses.append(val_loss)\n",
    "val_accuracies.append(val_acc)\n",
    "\n",
    "path = 'additionalaug'\n",
    "train_loss, train_acc, val_loss, val_acc = prepare_and_train(epochs, train_dataloader,test_dataloader, valid_dataloader, model, criterion, optimizer, scheduler, path, aug=True, augVal=1)\n",
    "train_losses.append(train_loss)\n",
    "train_accuracies.append(train_acc)\n",
    "val_losses.append(val_loss)\n",
    "val_accuracies.append(val_acc)"
   ]
  },
  {
   "cell_type": "code",
   "execution_count": null,
   "metadata": {
    "id": "qGwJr8inEYLb"
   },
   "outputs": [],
   "source": [
    "import matplotlib.pyplot as plt\n",
    "import pandas as pd\n",
    "\n",
    "# Read csv into a pandas dataframe\n",
    "df1 = pd.read_csv('additionalaugMetrics.csv')\n",
    "df2 = pd.read_csv('defaultaugMetrics.csv')\n",
    "\n",
    "val_acc1 = df1['Val_Acc']\n",
    "val_acc2 = df2['Val_Acc']\n",
    "\n",
    "\n",
    "# Plot the data\n",
    "epochs = range(0,50)\n",
    "plt.plot(epochs, val_acc1, 'g', label='Additional Augmentation')\n",
    "plt.plot(epochs, val_acc2, 'b', label='Default Augmentation')\n",
    "plt.title('Validation Accuracy')\n",
    "plt.xlabel('Epochs')\n",
    "plt.ylabel('Valid Accuracy')\n",
    "plt.legend()\n",
    "plt.show()"
   ]
  },
  {
   "cell_type": "code",
   "execution_count": null,
   "metadata": {
    "id": "00YHVZS5EbP8"
   },
   "outputs": [],
   "source": [
    "model1 = torch.load('additionalaugmodel.pt')\n",
    "model2 = torch.load('defaultaugmodel.pt')\n",
    "\n",
    "device = torch.device('cuda' if torch.cuda.is_available() else 'cpu')\n",
    "model1 = model1.to(device)\n",
    "model2 = model2.to(device)\n",
    "models = [model1, model2]\n",
    "criterion = nn.CrossEntropyLoss()\n",
    "criterion = criterion.to(device)\n",
    "\n",
    "test_accs = [[],[],[]]\n",
    "for i, model in enumerate(models):\n",
    "  _, acc = evaluate(model, test_dataloader, criterion, device )\n",
    "  test_accs[i].append(acc) \n",
    "\n",
    "print('Testing Accuracy for Additional Augmentation %0.4f, Default Augmentation %.4f'  %(test_accs[0][0],test_accs[1][0]))"
   ]
  }
 ],
 "metadata": {
  "accelerator": "GPU",
  "colab": {
   "provenance": []
  },
  "gpuClass": "standard",
  "kernelspec": {
   "display_name": "Python 3 (ipykernel)",
   "language": "python",
   "name": "python3"
  },
  "language_info": {
   "codemirror_mode": {
    "name": "ipython",
    "version": 3
   },
   "file_extension": ".py",
   "mimetype": "text/x-python",
   "name": "python",
   "nbconvert_exporter": "python",
   "pygments_lexer": "ipython3",
   "version": "3.8.5"
  },
  "widgets": {
   "application/vnd.jupyter.widget-state+json": {
    "36a2fb2a07e5485daaaf636925d19bc3": {
     "model_module": "@jupyter-widgets/base",
     "model_module_version": "1.2.0",
     "model_name": "LayoutModel",
     "state": {
      "_model_module": "@jupyter-widgets/base",
      "_model_module_version": "1.2.0",
      "_model_name": "LayoutModel",
      "_view_count": null,
      "_view_module": "@jupyter-widgets/base",
      "_view_module_version": "1.2.0",
      "_view_name": "LayoutView",
      "align_content": null,
      "align_items": null,
      "align_self": null,
      "border": null,
      "bottom": null,
      "display": null,
      "flex": null,
      "flex_flow": null,
      "grid_area": null,
      "grid_auto_columns": null,
      "grid_auto_flow": null,
      "grid_auto_rows": null,
      "grid_column": null,
      "grid_gap": null,
      "grid_row": null,
      "grid_template_areas": null,
      "grid_template_columns": null,
      "grid_template_rows": null,
      "height": null,
      "justify_content": null,
      "justify_items": null,
      "left": null,
      "margin": null,
      "max_height": null,
      "max_width": null,
      "min_height": null,
      "min_width": null,
      "object_fit": null,
      "object_position": null,
      "order": null,
      "overflow": null,
      "overflow_x": null,
      "overflow_y": null,
      "padding": null,
      "right": null,
      "top": null,
      "visibility": null,
      "width": null
     }
    },
    "55ce8e97865e4e2c9d23837de70a4ee3": {
     "model_module": "@jupyter-widgets/controls",
     "model_module_version": "1.5.0",
     "model_name": "ProgressStyleModel",
     "state": {
      "_model_module": "@jupyter-widgets/controls",
      "_model_module_version": "1.5.0",
      "_model_name": "ProgressStyleModel",
      "_view_count": null,
      "_view_module": "@jupyter-widgets/base",
      "_view_module_version": "1.2.0",
      "_view_name": "StyleView",
      "bar_color": null,
      "description_width": ""
     }
    },
    "669843edd3a14477ae9b5a9dd14b9954": {
     "model_module": "@jupyter-widgets/controls",
     "model_module_version": "1.5.0",
     "model_name": "FloatProgressModel",
     "state": {
      "_dom_classes": [],
      "_model_module": "@jupyter-widgets/controls",
      "_model_module_version": "1.5.0",
      "_model_name": "FloatProgressModel",
      "_view_count": null,
      "_view_module": "@jupyter-widgets/controls",
      "_view_module_version": "1.5.0",
      "_view_name": "ProgressView",
      "bar_style": "success",
      "description": "",
      "description_tooltip": null,
      "layout": "IPY_MODEL_e17a95f219ab471b8adc8e616bc73b6a",
      "max": 170498071,
      "min": 0,
      "orientation": "horizontal",
      "style": "IPY_MODEL_55ce8e97865e4e2c9d23837de70a4ee3",
      "value": 170498071
     }
    },
    "980abed5a3b04846b867c35c85f65a8f": {
     "model_module": "@jupyter-widgets/controls",
     "model_module_version": "1.5.0",
     "model_name": "HBoxModel",
     "state": {
      "_dom_classes": [],
      "_model_module": "@jupyter-widgets/controls",
      "_model_module_version": "1.5.0",
      "_model_name": "HBoxModel",
      "_view_count": null,
      "_view_module": "@jupyter-widgets/controls",
      "_view_module_version": "1.5.0",
      "_view_name": "HBoxView",
      "box_style": "",
      "children": [
       "IPY_MODEL_dd21c0b589a94cb5bb8742cda144ec71",
       "IPY_MODEL_669843edd3a14477ae9b5a9dd14b9954",
       "IPY_MODEL_cce357cc22a64477aeea1def76a2fac7"
      ],
      "layout": "IPY_MODEL_ef8e1e2dda8a45b79d5bb19e8e033ec3"
     }
    },
    "b3af70b65b63400795047f4e8a77e3a8": {
     "model_module": "@jupyter-widgets/controls",
     "model_module_version": "1.5.0",
     "model_name": "DescriptionStyleModel",
     "state": {
      "_model_module": "@jupyter-widgets/controls",
      "_model_module_version": "1.5.0",
      "_model_name": "DescriptionStyleModel",
      "_view_count": null,
      "_view_module": "@jupyter-widgets/base",
      "_view_module_version": "1.2.0",
      "_view_name": "StyleView",
      "description_width": ""
     }
    },
    "c61b07a46dbb4921a07b4cc17fd7575e": {
     "model_module": "@jupyter-widgets/base",
     "model_module_version": "1.2.0",
     "model_name": "LayoutModel",
     "state": {
      "_model_module": "@jupyter-widgets/base",
      "_model_module_version": "1.2.0",
      "_model_name": "LayoutModel",
      "_view_count": null,
      "_view_module": "@jupyter-widgets/base",
      "_view_module_version": "1.2.0",
      "_view_name": "LayoutView",
      "align_content": null,
      "align_items": null,
      "align_self": null,
      "border": null,
      "bottom": null,
      "display": null,
      "flex": null,
      "flex_flow": null,
      "grid_area": null,
      "grid_auto_columns": null,
      "grid_auto_flow": null,
      "grid_auto_rows": null,
      "grid_column": null,
      "grid_gap": null,
      "grid_row": null,
      "grid_template_areas": null,
      "grid_template_columns": null,
      "grid_template_rows": null,
      "height": null,
      "justify_content": null,
      "justify_items": null,
      "left": null,
      "margin": null,
      "max_height": null,
      "max_width": null,
      "min_height": null,
      "min_width": null,
      "object_fit": null,
      "object_position": null,
      "order": null,
      "overflow": null,
      "overflow_x": null,
      "overflow_y": null,
      "padding": null,
      "right": null,
      "top": null,
      "visibility": null,
      "width": null
     }
    },
    "cce357cc22a64477aeea1def76a2fac7": {
     "model_module": "@jupyter-widgets/controls",
     "model_module_version": "1.5.0",
     "model_name": "HTMLModel",
     "state": {
      "_dom_classes": [],
      "_model_module": "@jupyter-widgets/controls",
      "_model_module_version": "1.5.0",
      "_model_name": "HTMLModel",
      "_view_count": null,
      "_view_module": "@jupyter-widgets/controls",
      "_view_module_version": "1.5.0",
      "_view_name": "HTMLView",
      "description": "",
      "description_tooltip": null,
      "layout": "IPY_MODEL_36a2fb2a07e5485daaaf636925d19bc3",
      "placeholder": "​",
      "style": "IPY_MODEL_fa4a9b8d8a854b86b0a97c13c1cd17da",
      "value": " 170498071/170498071 [00:15&lt;00:00, 11721764.05it/s]"
     }
    },
    "dd21c0b589a94cb5bb8742cda144ec71": {
     "model_module": "@jupyter-widgets/controls",
     "model_module_version": "1.5.0",
     "model_name": "HTMLModel",
     "state": {
      "_dom_classes": [],
      "_model_module": "@jupyter-widgets/controls",
      "_model_module_version": "1.5.0",
      "_model_name": "HTMLModel",
      "_view_count": null,
      "_view_module": "@jupyter-widgets/controls",
      "_view_module_version": "1.5.0",
      "_view_name": "HTMLView",
      "description": "",
      "description_tooltip": null,
      "layout": "IPY_MODEL_c61b07a46dbb4921a07b4cc17fd7575e",
      "placeholder": "​",
      "style": "IPY_MODEL_b3af70b65b63400795047f4e8a77e3a8",
      "value": "100%"
     }
    },
    "e17a95f219ab471b8adc8e616bc73b6a": {
     "model_module": "@jupyter-widgets/base",
     "model_module_version": "1.2.0",
     "model_name": "LayoutModel",
     "state": {
      "_model_module": "@jupyter-widgets/base",
      "_model_module_version": "1.2.0",
      "_model_name": "LayoutModel",
      "_view_count": null,
      "_view_module": "@jupyter-widgets/base",
      "_view_module_version": "1.2.0",
      "_view_name": "LayoutView",
      "align_content": null,
      "align_items": null,
      "align_self": null,
      "border": null,
      "bottom": null,
      "display": null,
      "flex": null,
      "flex_flow": null,
      "grid_area": null,
      "grid_auto_columns": null,
      "grid_auto_flow": null,
      "grid_auto_rows": null,
      "grid_column": null,
      "grid_gap": null,
      "grid_row": null,
      "grid_template_areas": null,
      "grid_template_columns": null,
      "grid_template_rows": null,
      "height": null,
      "justify_content": null,
      "justify_items": null,
      "left": null,
      "margin": null,
      "max_height": null,
      "max_width": null,
      "min_height": null,
      "min_width": null,
      "object_fit": null,
      "object_position": null,
      "order": null,
      "overflow": null,
      "overflow_x": null,
      "overflow_y": null,
      "padding": null,
      "right": null,
      "top": null,
      "visibility": null,
      "width": null
     }
    },
    "ef8e1e2dda8a45b79d5bb19e8e033ec3": {
     "model_module": "@jupyter-widgets/base",
     "model_module_version": "1.2.0",
     "model_name": "LayoutModel",
     "state": {
      "_model_module": "@jupyter-widgets/base",
      "_model_module_version": "1.2.0",
      "_model_name": "LayoutModel",
      "_view_count": null,
      "_view_module": "@jupyter-widgets/base",
      "_view_module_version": "1.2.0",
      "_view_name": "LayoutView",
      "align_content": null,
      "align_items": null,
      "align_self": null,
      "border": null,
      "bottom": null,
      "display": null,
      "flex": null,
      "flex_flow": null,
      "grid_area": null,
      "grid_auto_columns": null,
      "grid_auto_flow": null,
      "grid_auto_rows": null,
      "grid_column": null,
      "grid_gap": null,
      "grid_row": null,
      "grid_template_areas": null,
      "grid_template_columns": null,
      "grid_template_rows": null,
      "height": null,
      "justify_content": null,
      "justify_items": null,
      "left": null,
      "margin": null,
      "max_height": null,
      "max_width": null,
      "min_height": null,
      "min_width": null,
      "object_fit": null,
      "object_position": null,
      "order": null,
      "overflow": null,
      "overflow_x": null,
      "overflow_y": null,
      "padding": null,
      "right": null,
      "top": null,
      "visibility": null,
      "width": null
     }
    },
    "fa4a9b8d8a854b86b0a97c13c1cd17da": {
     "model_module": "@jupyter-widgets/controls",
     "model_module_version": "1.5.0",
     "model_name": "DescriptionStyleModel",
     "state": {
      "_model_module": "@jupyter-widgets/controls",
      "_model_module_version": "1.5.0",
      "_model_name": "DescriptionStyleModel",
      "_view_count": null,
      "_view_module": "@jupyter-widgets/base",
      "_view_module_version": "1.2.0",
      "_view_name": "StyleView",
      "description_width": ""
     }
    }
   }
  }
 },
 "nbformat": 4,
 "nbformat_minor": 1
}
